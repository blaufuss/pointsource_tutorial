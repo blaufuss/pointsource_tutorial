{
 "cells": [
  {
   "cell_type": "code",
   "execution_count": null,
   "metadata": {},
   "outputs": [],
   "source": [
    "import os, sys, glob, numpy as np, matplotlib, scipy\n",
    "%matplotlib inline\n",
    "from matplotlib import pyplot as plt\n",
    "from numpy.random import poisson"
   ]
  },
  {
   "cell_type": "code",
   "execution_count": null,
   "metadata": {},
   "outputs": [],
   "source": [
    "# Load in both the simulation and the data\n",
    "sim = np.load(\"./data/IC86_2012_MC.npy\")\n",
    "data = np.load(\"./data/IC86_2012_exp.npy\")\n",
    "\n",
    "# Show the possible keys available here:\n",
    "print(\"Keys available in simulation:\")\n",
    "print(sorted(sim.dtype.names))\n",
    "print()\n",
    "\n",
    "print(\"Keys available in data:\")\n",
    "print(sorted(data.dtype.names))"
   ]
  },
  {
   "cell_type": "code",
   "execution_count": null,
   "metadata": {},
   "outputs": [],
   "source": [
    "# Also load in the \"GoodRunList\" (GRL), a file that tells\n",
    "# us when the detector was taking good data. \n",
    "grl = np.load(\"./data/GRL/IC86_2012_exp.npy\")\n",
    "\n",
    "# Show the keys available in the GRL\n",
    "print(\"Keys available in the GoodRunList:\")\n",
    "print(sorted(grl.dtype.names))"
   ]
  },
  {
   "cell_type": "code",
   "execution_count": null,
   "metadata": {},
   "outputs": [],
   "source": [
    "# We will need the average rate for our analysis.\n",
    "# We can get this by either counting the number of\n",
    "# events in data or the number of events recorded\n",
    "# in the GRL and dividing by the total good livetime.\n",
    "total_events = len(data)\n",
    "total_livetime = np.sum(grl['livetime'])\n",
    "\n",
    "average_rate = total_events / total_livetime\n",
    "print(\"Data has an average rate of {:4.2f} events/day\".format(average_rate))"
   ]
  },
  {
   "cell_type": "code",
   "execution_count": null,
   "metadata": {},
   "outputs": [],
   "source": [
    "# Define the parameters of our analysis.\n",
    "# We're going to simplify things a little bit to start\n",
    "# and ignore the impact of detector downtime, which\n",
    "# would need to be included in an actual analysis.\n",
    "# \n",
    "# Our first test analysis will look for an excess of \n",
    "# neutrino events in 1000 seconds centered on T=123.4\n",
    "# using events from the entire sky.\n",
    "analysis_time = 123.4 # days\n",
    "time_window = 1000 # seconds\n",
    "time_window /= (24*3600.) # converted to days, since our rate is in days.\n",
    "\n",
    "# We will be using the data to model the background in\n",
    "# our test analysis. How many background events should\n",
    "# we expect in our analysis?\n",
    "n_expected = average_rate * time_window\n",
    "print(\"We expect an average of {:4.3f} background events in our \"\\\n",
    "      \"{:4.3f} day time window.\".format(n_expected, time_window))"
   ]
  },
  {
   "cell_type": "code",
   "execution_count": null,
   "metadata": {},
   "outputs": [],
   "source": [
    "# Now that we have defined the parameters for our\n",
    "# analysis, let's pick out the events that we want\n",
    "# to focus on. \n",
    "# Define a function to pick out these events. For\n",
    "# now, we'll only be applying this to data. Eventually,\n",
    "# we'll also want to apply it to simulation as well\n",
    "# once we have an analysis that eg only looks with \n",
    "# 2 degrees of a GRB or blazar position.\n",
    "def select_events(dataset,\n",
    "                  tstart = analysis_time-time_window/2.,\n",
    "                  tend = analysis_time+time_window/2.):\n",
    "    \n",
    "    # Define the function here\n",
    "    \n",
    "    return events"
   ]
  },
  {
   "cell_type": "code",
   "execution_count": null,
   "metadata": {},
   "outputs": [],
   "source": [
    "# We will need to take data and get some \"test statistic\" \n",
    "# out of them. This will usually be a likelihood, but may\n",
    "# include other things if required. If we use a likelihood,\n",
    "# the \"TS\" value will typically be either the LLH or 2*LLH\n",
    "def get_test_statistic(trial):\n",
    "    \n",
    "    # Define the function here\n",
    "    \n",
    "    return ts"
   ]
  },
  {
   "cell_type": "code",
   "execution_count": null,
   "metadata": {},
   "outputs": [],
   "source": [
    "# The TS value we get from the above function is just\n",
    "# a number. A number by itself doesn't tell us much\n",
    "# and can't be used for actual physics. Instead, we\n",
    "# need to learn how to interpret that number.\n",
    "# Almost all analyses we do in IceCube include the\n",
    "# concept of a \"trial\" to learn this interpretation\n",
    "#\n",
    "# A trial is one simulated observation. In our case,\n",
    "# our analysis is looking at 1000 second time windows\n",
    "# which may have signal and background events. Define\n",
    "# a function which can produce a trial using simulation.\n",
    "#\n",
    "# We only care about the time window for now, so we \n",
    "# won't be using any directional information yet. \n",
    "# Note that the n_background and n_signal are the\n",
    "# AVERAGE expectations, meaning that they do not have\n",
    "# to be integers. You can have an *expectation* of \n",
    "# 0.5 events, but you cannot *observe* 0.5 events.\n",
    "def produce_trial(simulation,\n",
    "                  n_background = n_expected,\n",
    "                  n_signal = 0.0):\n",
    "    \n",
    "    # Define the function here.\n",
    "\n",
    "    #return the total number of events\n",
    "    return n_background_observed + n_signal_observed"
   ]
  },
  {
   "cell_type": "code",
   "execution_count": null,
   "metadata": {},
   "outputs": [],
   "source": []
  },
  {
   "cell_type": "code",
   "execution_count": null,
   "metadata": {},
   "outputs": [],
   "source": []
  },
  {
   "cell_type": "code",
   "execution_count": null,
   "metadata": {},
   "outputs": [],
   "source": []
  },
  {
   "cell_type": "code",
   "execution_count": null,
   "metadata": {},
   "outputs": [],
   "source": []
  },
  {
   "cell_type": "code",
   "execution_count": null,
   "metadata": {},
   "outputs": [],
   "source": []
  },
  {
   "cell_type": "code",
   "execution_count": null,
   "metadata": {},
   "outputs": [],
   "source": []
  },
  {
   "cell_type": "code",
   "execution_count": null,
   "metadata": {},
   "outputs": [],
   "source": []
  },
  {
   "cell_type": "code",
   "execution_count": null,
   "metadata": {},
   "outputs": [],
   "source": []
  },
  {
   "cell_type": "code",
   "execution_count": null,
   "metadata": {},
   "outputs": [],
   "source": []
  },
  {
   "cell_type": "code",
   "execution_count": null,
   "metadata": {},
   "outputs": [],
   "source": []
  }
 ],
 "metadata": {
  "kernelspec": {
   "display_name": "Python 3",
   "language": "python",
   "name": "python3"
  },
  "language_info": {
   "codemirror_mode": {
    "name": "ipython",
    "version": 3
   },
   "file_extension": ".py",
   "mimetype": "text/x-python",
   "name": "python",
   "nbconvert_exporter": "python",
   "pygments_lexer": "ipython3",
   "version": "3.7.3"
  }
 },
 "nbformat": 4,
 "nbformat_minor": 4
}
