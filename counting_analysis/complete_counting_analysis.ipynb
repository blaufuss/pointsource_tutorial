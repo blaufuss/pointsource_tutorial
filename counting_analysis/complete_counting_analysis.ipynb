{
 "cells": [
  {
   "cell_type": "code",
   "execution_count": 74,
   "metadata": {},
   "outputs": [],
   "source": [
    "import os, sys, glob, numpy as np, matplotlib, scipy\n",
    "%matplotlib inline\n",
    "from matplotlib import pyplot as plt\n",
    "from numpy.random import poisson\n",
    "from scipy import stats\n",
    "from scipy.optimize import minimize"
   ]
  },
  {
   "cell_type": "code",
   "execution_count": 75,
   "metadata": {},
   "outputs": [
    {
     "name": "stdout",
     "output_type": "stream",
     "text": [
      "Keys available in simulation:\n",
      "['angErr', 'azi', 'dec', 'event', 'logE', 'ow', 'ra', 'run', 'subevent', 'time', 'trueDec', 'trueE', 'trueRa', 'zen']\n",
      "\n",
      "Keys available in data:\n",
      "['angErr', 'azi', 'dec', 'event', 'logE', 'ra', 'run', 'subevent', 'time', 'zen']\n"
     ]
    }
   ],
   "source": [
    "# Load in both the simulation and the data\n",
    "sim = np.load(\"./data/IC86_2012_MC.npy\")\n",
    "data = np.load(\"./data/IC86_2012_exp.npy\")\n",
    "\n",
    "# Show the possible keys available here:\n",
    "print(\"Keys available in simulation:\")\n",
    "print(sorted(sim.dtype.names))\n",
    "print()\n",
    "\n",
    "print(\"Keys available in data:\")\n",
    "print(sorted(data.dtype.names))"
   ]
  },
  {
   "cell_type": "code",
   "execution_count": 76,
   "metadata": {},
   "outputs": [
    {
     "name": "stdout",
     "output_type": "stream",
     "text": [
      "Keys available in the GoodRunList:\n",
      "['events', 'livetime', 'run', 'start', 'stop']\n"
     ]
    }
   ],
   "source": [
    "# Also load in the \"GoodRunList\" (GRL), a file that tells\n",
    "# us when the detector was taking good data. \n",
    "grl = np.load(\"./data/GRL/IC86_2012_exp.npy\")\n",
    "\n",
    "# Show the keys available in the GRL\n",
    "print(\"Keys available in the GoodRunList:\")\n",
    "print(sorted(grl.dtype.names))"
   ]
  },
  {
   "cell_type": "code",
   "execution_count": 77,
   "metadata": {},
   "outputs": [
    {
     "name": "stdout",
     "output_type": "stream",
     "text": [
      "Data has an average rate of 339.96 events/day\n"
     ]
    }
   ],
   "source": [
    "# We will need the average rate for our analysis.\n",
    "# We can get this by either counting the number of\n",
    "# events in data or the number of events recorded\n",
    "# in the GRL and dividing by the total good livetime.\n",
    "total_events = len(data)\n",
    "total_livetime = np.sum(grl['livetime'])\n",
    "\n",
    "average_rate = total_events / total_livetime\n",
    "print(\"Data has an average rate of {:4.2f} events/day\".format(average_rate))"
   ]
  },
  {
   "cell_type": "code",
   "execution_count": 78,
   "metadata": {},
   "outputs": [
    {
     "name": "stdout",
     "output_type": "stream",
     "text": [
      "We expect an average of 3.935 background events in our 0.012 day time window.\n"
     ]
    }
   ],
   "source": [
    "# Define the parameters of our analysis.\n",
    "# We're going to simplify things a little bit to start\n",
    "# and ignore the impact of detector downtime, which\n",
    "# would need to be included in an actual analysis.\n",
    "# \n",
    "# Our first test analysis will look for an excess of \n",
    "# neutrino events in 1000 seconds centered on T=123.4\n",
    "# using events from the entire sky.\n",
    "analysis_time = 56123.4 # days\n",
    "time_window = 1000 # seconds\n",
    "time_window /= (24*3600.) # converted to days, since our rate is in days.\n",
    "\n",
    "# We will be using the data to model the background in\n",
    "# our test analysis. How many background events should\n",
    "# we expect in our analysis?\n",
    "n_expected = average_rate * time_window\n",
    "print(\"We expect an average of {:4.3f} background events in our \"\\\n",
    "      \"{:4.3f} day time window.\".format(n_expected, time_window))"
   ]
  },
  {
   "cell_type": "code",
   "execution_count": 79,
   "metadata": {},
   "outputs": [
    {
     "name": "stdout",
     "output_type": "stream",
     "text": [
      "Found 4 events\n"
     ]
    }
   ],
   "source": [
    "# Now that we have defined the parameters for our\n",
    "# analysis, let's pick out the events that we want\n",
    "# to focus on. \n",
    "# Define a function to pick out these events. For\n",
    "# now, we'll only be applying this to data. Eventually,\n",
    "# we'll also want to apply it to simulation as well\n",
    "# once we have an analysis that eg only looks with \n",
    "# 2 degrees of a GRB or blazar position.\n",
    "def select_events(dataset,\n",
    "                  tstart = analysis_time-time_window/2.,\n",
    "                  tend = analysis_time+time_window/2.):\n",
    "    \n",
    "    # Define the function here\n",
    "    useful = (tstart <= dataset['time']) & (dataset['time'] < tend)\n",
    "    events = dataset[useful]\n",
    "    return events\n",
    "\n",
    "selected_data = select_events(data)\n",
    "print(\"Found {} events\".format(len(selected_data)))"
   ]
  },
  {
   "cell_type": "code",
   "execution_count": 80,
   "metadata": {},
   "outputs": [],
   "source": [
    "# We will need to take data and get some \"test statistic\" \n",
    "# out of them. This will usually be a likelihood, but may\n",
    "# include other things if required. If we use a likelihood,\n",
    "# the \"TS\" value will typically be either the LLH or 2*LLH\n",
    "def get_test_statistic(trial, \n",
    "                       n_background = n_expected,\n",
    "                       n_signal = 0,\n",
    "                       find_best_fit = True,\n",
    "                       ):\n",
    "    \n",
    "    # Define the binned Poisson likelihood\n",
    "    n_observed = len(trial)\n",
    "    n_expected = n_background + n_signal\n",
    "\n",
    "    # To better include the constants, we're going to\n",
    "    # use the scipy.stats.poisson distribution code\n",
    "    # directly. \n",
    "    nllh = -1 * stats.poisson.logpmf(n_observed, n_expected)\n",
    "    return nllh"
   ]
  },
  {
   "cell_type": "code",
   "execution_count": 81,
   "metadata": {},
   "outputs": [],
   "source": [
    "# The TS value we get from the above function is just\n",
    "# a number. A number by itself doesn't tell us much\n",
    "# and can't be used for actual physics. Instead, we\n",
    "# need to learn how to interpret that number.\n",
    "# Almost all analyses we do in IceCube include the\n",
    "# concept of a \"trial\" to learn this interpretation\n",
    "#\n",
    "# A trial is one simulated observation. In our case,\n",
    "# our analysis is looking at 1000 second time windows\n",
    "# which may have signal and background events. Define\n",
    "# a function which can produce a trial using simulation.\n",
    "#\n",
    "# We only care about the time window for now, so we \n",
    "# won't be using any directional information yet. \n",
    "# Note that the n_background and n_signal are the\n",
    "# AVERAGE expectations, meaning that they do not have\n",
    "# to be integers. You can have an *expectation* of \n",
    "# 0.5 events, but you cannot *observe* 0.5 events.\n",
    "def produce_trial(simulation,\n",
    "                  n_background = n_expected,\n",
    "                  n_signal = 0.0):\n",
    "    \n",
    "    # Define the function here.\n",
    "    number_bg = np.random.poisson(n_background)\n",
    "    number_sig = np.random.poisson(n_signal)\n",
    "    \n",
    "    background_observed = np.random.choice(simulation, number_bg)\n",
    "    signal_observed = np.random.choice(simulation, number_sig)\n",
    "\n",
    "    #return the total number of events\n",
    "    return np.concatenate([background_observed, signal_observed])"
   ]
  },
  {
   "cell_type": "code",
   "execution_count": null,
   "metadata": {},
   "outputs": [],
   "source": []
  },
  {
   "cell_type": "code",
   "execution_count": 82,
   "metadata": {},
   "outputs": [
    {
     "name": "stdout",
     "output_type": "stream",
     "text": [
      "1.6334153334500963\n"
     ]
    }
   ],
   "source": [
    "# Produce a single trial and calculate the TS value\n",
    "# in order to test the functions.\n",
    "trial_events = produce_trial(sim, n_signal=0)\n",
    "trial_ts = get_test_statistic(trial_events, n_signal=0)\n",
    "print(trial_ts)"
   ]
  },
  {
   "cell_type": "code",
   "execution_count": 83,
   "metadata": {},
   "outputs": [],
   "source": [
    "# We still don't know what this value actually means: it's\n",
    "# just a number. In order to interpret the value, we need\n",
    "# to know what we would expect from just background or \n",
    "# from signal+background. We do that by producing many\n",
    "# trials and looking at the distribution of TS values.\n",
    "# Write a function to make this simpler\n",
    "def produce_trials(simulation, \n",
    "                   n_trials = 1000,\n",
    "                   n_background = n_expected, \n",
    "                   n_signal_test = 0,\n",
    "                   n_signal_injected = 0\n",
    "                  ):\n",
    "    ns = np.zeros(n_trials, dtype=float)\n",
    "    ts = np.zeros(n_trials, dtype=float)\n",
    "    for i in range(n_trials):\n",
    "        trial_events = produce_trial(simulation, n_background, n_signal_injected)\n",
    "        ts[i] = get_test_statistic(trial_events, n_background, n_signal_test)\n",
    "        \n",
    "    return ts\n"
   ]
  },
  {
   "cell_type": "code",
   "execution_count": 84,
   "metadata": {},
   "outputs": [],
   "source": [
    "# Produce the TS values for a bunch of choices for signal\n",
    "background_ts = produce_trials(sim, n_trials=10000)\n",
    "signal_5_ts = produce_trials(sim, n_trials=10000, n_signal_test=0, n_signal_injected=5)\n",
    "signal_10_ts = produce_trials(sim, n_trials=10000, n_signal_test=0, n_signal_injected=10)"
   ]
  },
  {
   "cell_type": "code",
   "execution_count": 85,
   "metadata": {},
   "outputs": [
    {
     "data": {
      "image/png": "[encoded data removed]",
      "text/plain": [
       "<Figure size 720x432 with 1 Axes>"
      ]
     },
     "metadata": {
      "needs_background": "light"
     },
     "output_type": "display_data"
    }
   ],
   "source": [
    "# And plot them all\n",
    "fig, ax = plt.subplots(figsize=(10,6))\n",
    "bins = np.linspace(0, 50, 35)\n",
    "\n",
    "ax.hist(background_ts,\n",
    "        bins = bins,\n",
    "        histtype = 'step',\n",
    "        linewidth = 3,\n",
    "        label = r'$n_{inj}$ = 0')\n",
    "\n",
    "ax.hist(signal_5_ts,\n",
    "        bins = bins,\n",
    "        histtype = 'step',\n",
    "        linewidth = 3,\n",
    "        label = r'$n_{inj}$ = 5')\n",
    "\n",
    "ax.hist(signal_10_ts,\n",
    "        bins = bins,\n",
    "        histtype = 'step',\n",
    "        linewidth = 3,\n",
    "        label = r'$n_{inj}$ = 10')\n",
    "\n",
    "ax.legend(loc='upper left', fontsize=16,)\n",
    "\n",
    "ax.grid(alpha=0.25)\n",
    "ax.set_xlim(bins.min(), bins.max())\n",
    "ax.set_xlabel(\"-LLH\", fontsize=16)\n",
    "ax.set_ylabel(\"Number of Trials\", fontsize=16)\n",
    "ax.tick_params(which='both', labelsize=16)"
   ]
  },
  {
   "cell_type": "code",
   "execution_count": null,
   "metadata": {},
   "outputs": [],
   "source": []
  },
  {
   "cell_type": "code",
   "execution_count": 86,
   "metadata": {},
   "outputs": [],
   "source": [
    "# We've seen what the distributions looks like. \n",
    "# Let's calculate a \"sensitivity\". The sensitivity is\n",
    "# used to estimate the amount of signal which can be\n",
    "# hidden in the background and answers the following \n",
    "# question:\n",
    "# What average number of signal events is required so\n",
    "# that 90% of the (signal+background) distribution is\n",
    "# above 50% of the (background only) distribution?\n",
    "# \n",
    "# How can we answer this question?\n",
    "# \n",
    "# Start by finding the median of the background distribution\n",
    "# We do this by running \"background trials\": produce 100000\n",
    "# samples of background. We're going to do this in a single\n",
    "# cell so that we don't have to redo it later\n",
    "background_ts = produce_trials(sim, n_trials=100000)"
   ]
  },
  {
   "cell_type": "code",
   "execution_count": 87,
   "metadata": {},
   "outputs": [
    {
     "data": {
      "image/png": "[encoded data removed]",
      "text/plain": [
       "<Figure size 720x432 with 1 Axes>"
      ]
     },
     "metadata": {
      "needs_background": "light"
     },
     "output_type": "display_data"
    }
   ],
   "source": [
    "# Now pick a number of signal events and produce \"signal trials\"\n",
    "# using the (signal+background) rate\n",
    "\n",
    "# Now pick a number of signal events and produce \"signal trials\"\n",
    "# using the (signal+background) rate\n",
    "n_signal = 4.2\n",
    "signal_ts = produce_trials(sim,\n",
    "                           n_trials = 1000,\n",
    "                           n_background = n_expected,\n",
    "                           n_signal_injected = n_signal)\n",
    "\n",
    "# Show these distributions to get a feel for how\n",
    "# the two distributions look.\n",
    "fig, ax = plt.subplots(figsize=(10, 6))\n",
    "bins = np.linspace(0, 20, 26)\n",
    "\n",
    "_ = ax.hist(background_ts,\n",
    "            bins = bins,\n",
    "            weights = np.ones(len(background_ts), dtype=float)/len(background_ts),\n",
    "            color = 'r',\n",
    "            alpha = 0.6,\n",
    "            label = 'Background')\n",
    "\n",
    "_ = ax.hist(signal_ts,\n",
    "            bins = bins,\n",
    "            weights = np.ones(len(signal_ts), dtype=float)/len(signal_ts),\n",
    "            color = 'b',\n",
    "            alpha = 0.6,\n",
    "            label = 'Signal+Background')\n",
    "\n",
    "# Let's also directly show the location of the median \n",
    "# of the background distribution\n",
    "background_median = np.percentile(background_ts, 50)\n",
    "ax.axvline(background_median,\n",
    "           linewidth=3,\n",
    "           color = 'k',\n",
    "           alpha = 0.4,\n",
    "           linestyle = 'dashed',\n",
    "           label = \"Background 50%\")\n",
    "\n",
    "# We want 90% of the (signal+background) to be\n",
    "# above the sensitivity, but np.percentile takes\n",
    "# the percentage *below* instead.\n",
    "signal_10pc = np.percentile(signal_ts, 100-90)\n",
    "ax.axvline(signal_10pc,\n",
    "           linewidth=3,\n",
    "           color = 'k',\n",
    "           alpha = 0.4,\n",
    "           linestyle = 'dotted',\n",
    "           label = \"Signal 90%\")\n",
    "\n",
    "\n",
    "ax.legend(fontsize=16)\n",
    "ax.grid(alpha=0.2)\n",
    "ax.set_xlim(bins.min(), bins.max())\n",
    "ax.set_xlabel(\"Test Statistic\", fontsize=16)\n",
    "ax.set_ylabel(\"Fraction of trials\", fontsize=16,)\n",
    "ax.tick_params(which=\"both\", labelsize=14)"
   ]
  },
  {
   "cell_type": "code",
   "execution_count": 88,
   "metadata": {},
   "outputs": [
    {
     "data": {
      "image/png": "[encoded data removed]",
      "text/plain": [
       "<Figure size 720x432 with 1 Axes>"
      ]
     },
     "metadata": {
      "needs_background": "light"
     },
     "output_type": "display_data"
    }
   ],
   "source": [
    "# In addition to the \"sensitivity\", there's also a\n",
    "# \"discovery potential\". The discovery potential answers\n",
    "# this question:\n",
    "#\n",
    "# How much signal is required to claim a discovery at N-sigma?\n",
    "# \n",
    "# From a practical perspect, the process is almost identical \n",
    "# to that for the sensitivity. Here, we want to know what \n",
    "# signal is required for 50% of the (signal+background) distribution\n",
    "# to be above N-sigma of the background distribution.\n",
    "#\n",
    "# Let's do this for a 3-sigma discovery\n",
    "# 5-sigma corresponds to 99.73%\n",
    "\n",
    "# Now pick a number of signal events and produce \"signal trials\"\n",
    "# using the (signal+background) rate\n",
    "\n",
    "# Now pick a number of signal events and produce \"signal trials\"\n",
    "# using the (signal+background) rate\n",
    "n_signal = 6.5\n",
    "signal_ts = produce_trials(sim,\n",
    "                           n_trials = 1000,\n",
    "                           n_background = n_expected,\n",
    "                           n_signal_injected = n_signal)\n",
    "\n",
    "# Show these distributions to get a feel for how\n",
    "# the two distributions look.\n",
    "fig, ax = plt.subplots(figsize=(10, 6))\n",
    "bins = np.linspace(0, 30, 31)\n",
    "\n",
    "_ = ax.hist(background_ts,\n",
    "            bins = bins,\n",
    "            weights = np.ones(len(background_ts), dtype=float)/len(background_ts),\n",
    "            color = 'r',\n",
    "            alpha = 0.6,\n",
    "            label = 'Background')\n",
    "\n",
    "_ = ax.hist(signal_ts,\n",
    "            bins = bins,\n",
    "            weights = np.ones(len(signal_ts), dtype=float)/len(signal_ts),\n",
    "            color = 'b',\n",
    "            alpha = 0.6,\n",
    "            label = 'Signal+Background')\n",
    "\n",
    "# Let's also directly show the location of the median \n",
    "# of the background distribution\n",
    "background_median = np.percentile(background_ts, 99.73)\n",
    "ax.axvline(background_median,\n",
    "           linewidth=3,\n",
    "           color = 'k',\n",
    "           alpha = 0.4,\n",
    "           linestyle = 'dashed',\n",
    "           label = r\"Background 5$\\sigma$\")\n",
    "\n",
    "# We want 90% of the (signal+background) to be\n",
    "# above the sensitivity, but np.percentile takes\n",
    "# the percentage *below* instead.\n",
    "signal_10pc = np.percentile(signal_ts, 50)\n",
    "ax.axvline(signal_10pc,\n",
    "           linewidth=3,\n",
    "           color = 'k',\n",
    "           alpha = 0.4,\n",
    "           linestyle = 'dotted',\n",
    "           label = \"Signal 50%\")\n",
    "\n",
    "\n",
    "ax.legend(fontsize=16)\n",
    "ax.grid(alpha=0.2)\n",
    "\n",
    "ax.set_xlim(bins.min(), bins.max())\n",
    "ax.set_xlabel(\"Test Statistic\", fontsize=16)\n",
    "ax.set_ylabel(\"Number of trials\", fontsize=16,)\n",
    "ax.tick_params(which=\"both\", labelsize=14)"
   ]
  },
  {
   "cell_type": "code",
   "execution_count": null,
   "metadata": {},
   "outputs": [],
   "source": []
  },
  {
   "cell_type": "code",
   "execution_count": null,
   "metadata": {},
   "outputs": [],
   "source": []
  },
  {
   "cell_type": "code",
   "execution_count": null,
   "metadata": {},
   "outputs": [],
   "source": []
  }
 ],
 "metadata": {
  "kernelspec": {
   "display_name": "Python 3",
   "language": "python",
   "name": "python3"
  },
  "language_info": {
   "codemirror_mode": {
    "name": "ipython",
    "version": 3
   },
   "file_extension": ".py",
   "mimetype": "text/x-python",
   "name": "python",
   "nbconvert_exporter": "python",
   "pygments_lexer": "ipython3",
   "version": "3.7.3"
  }
 },
 "nbformat": 4,
 "nbformat_minor": 4
}
