{
 "cells": [
  {
   "cell_type": "code",
   "execution_count": 1,
   "metadata": {},
   "outputs": [],
   "source": [
    "import os, sys, glob, numpy as np, matplotlib, scipy, healpy as hp, time\n",
    "%matplotlib inline\n",
    "from matplotlib import pyplot as plt, colors\n",
    "from scipy import stats, interpolate, optimize\n",
    "import numpy.lib.recfunctions as rf"
   ]
  },
  {
   "cell_type": "code",
   "execution_count": 2,
   "metadata": {},
   "outputs": [
    {
     "name": "stdout",
     "output_type": "stream",
     "text": [
      "Reduced the number of simulation events from  11595414 to 10000\n",
      "\n",
      "Keys available in simulation:\n",
      "['angErr', 'azi', 'dec', 'event', 'logE', 'ow', 'ra', 'run', 'subevent', 'time', 'trueDec', 'trueE', 'trueRa', 'zen']\n",
      "\n",
      "Keys available in data:\n",
      "['angErr', 'azi', 'dec', 'event', 'logE', 'ra', 'run', 'subevent', 'time', 'zen']\n"
     ]
    }
   ],
   "source": [
    "# Load in both the simulation and the data\n",
    "sim = np.load(\"../counting_analysis/data/IC86_2012_MC.npy\")\n",
    "data = np.load(\"../counting_analysis/data/IC86_2012_exp.npy\")\n",
    "\n",
    "# Reduce the number of events in the simulation\n",
    "# to a manageable level.\n",
    "N = len(sim)\n",
    "n_keep = 10000\n",
    "sim = np.random.choice(sim, n_keep)    # cut down to n_keep events\n",
    "sim['ow'] /= float(n_keep)/float(N)    # correct the weights\n",
    "print(\"Reduced the number of simulation events from \",\n",
    "     \"{} to {}\".format(N, len(sim)))\n",
    "print()\n",
    "\n",
    "# Show the possible keys available here:\n",
    "print(\"Keys available in simulation:\")\n",
    "print(sorted(sim.dtype.names))\n",
    "print()\n",
    "\n",
    "print(\"Keys available in data:\")\n",
    "print(sorted(data.dtype.names))"
   ]
  },
  {
   "cell_type": "code",
   "execution_count": 3,
   "metadata": {},
   "outputs": [
    {
     "name": "stdout",
     "output_type": "stream",
     "text": [
      "Keys available in the GoodRunList:\n",
      "['events', 'livetime', 'run', 'start', 'stop']\n"
     ]
    }
   ],
   "source": [
    "# Also load in the \"GoodRunList\" (GRL), a file that tells\n",
    "# us when the detector was taking good data. \n",
    "grl = np.load(\"../counting_analysis/data/GRL/IC86_2012_exp.npy\")\n",
    "\n",
    "# Show the keys available in the GRL\n",
    "print(\"Keys available in the GoodRunList:\")\n",
    "print(sorted(grl.dtype.names))"
   ]
  },
  {
   "cell_type": "code",
   "execution_count": 4,
   "metadata": {},
   "outputs": [
    {
     "name": "stdout",
     "output_type": "stream",
     "text": [
      "Data has an average rate of 339.96 events/day\n"
     ]
    }
   ],
   "source": [
    "# We will need the average rate for our analysis.\n",
    "# We can get this by either counting the number of\n",
    "# events in data or the number of events recorded\n",
    "# in the GRL and dividing by the total good livetime.\n",
    "total_events = len(data)\n",
    "total_livetime = np.sum(grl['livetime'])\n",
    "\n",
    "average_rate = total_events / total_livetime\n",
    "print(\"Data has an average rate of {:4.2f} events/day\".format(average_rate))"
   ]
  },
  {
   "cell_type": "code",
   "execution_count": 5,
   "metadata": {},
   "outputs": [
    {
     "name": "stdout",
     "output_type": "stream",
     "text": [
      "We expect an average of 3.935 background events in our 0.012 day time window.\n"
     ]
    }
   ],
   "source": [
    "# Define the parameters of our analysis.\n",
    "# We're going to simplify things a little bit to start\n",
    "# and ignore the impact of detector downtime, which\n",
    "# would need to be included in an actual analysis.\n",
    "# \n",
    "# Our first test analysis will look for an excess of \n",
    "# neutrino events in 1000 seconds across the entire sky.\n",
    "time_window = 1000 # seconds\n",
    "time_window /= (24*3600.) # converted to days, since our rate is in days.\n",
    "\n",
    "# We will be using the data to model the background in\n",
    "# our test analysis. How many background events should\n",
    "# we expect in our analysis?\n",
    "n_expected = average_rate * time_window\n",
    "print(\"We expect an average of {:4.3f} background events in our \"\\\n",
    "      \"{:4.3f} day time window.\".format(n_expected, time_window))"
   ]
  },
  {
   "cell_type": "code",
   "execution_count": 6,
   "metadata": {},
   "outputs": [],
   "source": [
    "# Write some helper functions that we can use \n",
    "# later. Specifically, we want to be able to \n",
    "# calculate the angular distance between two\n",
    "# directions and to produce a trial including\n",
    "# signal and background.\n",
    "def to_unit_vector(ra, dec):\n",
    "    return np.array([np.cos(ra)*np.cos(dec),\n",
    "                     np.sin(ra)*np.cos(dec),\n",
    "                     np.sin(dec)])\n",
    "\n",
    "def angular_distance(ra_A, dec_A, ra_B, dec_B): \n",
    "    unit_A = to_unit_vector(ra_A, dec_A)\n",
    "    unit_B = to_unit_vector(ra_B, dec_B)\n",
    "    \n",
    "    if len(unit_A.shape) != 1:\n",
    "        return np.arccos(np.dot(unit_A.T, unit_B))\n",
    "    else:\n",
    "        return np.arccos(np.dot(unit_A, unit_B))\n"
   ]
  },
  {
   "cell_type": "code",
   "execution_count": 18,
   "metadata": {},
   "outputs": [],
   "source": [
    "# We're going to use a \"true\" pdf for the signal: \n",
    "# We're just going to pick out events that have a\n",
    "# true direction near to the source. This'll be used\n",
    "# for when we want to add some signal to our trials\n",
    "def true_signal_pdf(event,\n",
    "                    source_ra, \n",
    "                    source_dec):\n",
    "    distance = angular_distance(event['trueRa'], \n",
    "                                event['trueDec'], \n",
    "                                source_ra, \n",
    "                                source_dec)\n",
    "    sigma = event['angErr']\n",
    "    return (1.0)/(2*np.pi*sigma**2) * np.exp(-(distance)**2/(2*sigma**2))\n",
    "\n",
    "# A trial is one simulated observation. In our case,\n",
    "# our analysis is looking at 1000 second time windows\n",
    "# which may have signal and background events. Define\n",
    "# a function which can produce a trial for us.\n",
    "# This time, we want to return the directional info\n",
    "# for the selected events. To do this, we need to do\n",
    "# some magic near the end of the function.\n",
    "def produce_trial(n_background = n_expected,\n",
    "                  N=0,\n",
    "                  gamma=-2,\n",
    "                  source_ra = np.pi/2,\n",
    "                  source_dec = np.pi/6,\n",
    "                  window = time_window,\n",
    "                  data=data,\n",
    "                  sim=sim,\n",
    "                  random_seed = None):\n",
    "    \n",
    "    if random_seed != None:\n",
    "        np.random.seed(random_seed)\n",
    "        \n",
    "    # We're here going to sample background events from\n",
    "    # our data. This is a trick we use, since almost all\n",
    "    # events from our data will be background. This saves\n",
    "    # us from having to pick a background spectrum.\n",
    "    n_background_observed = scipy.stats.poisson.rvs(n_background)\n",
    "    background = np.random.choice(data, n_background_observed)\n",
    "        \n",
    "    # Do we want signal events?\n",
    "    if N > 0:\n",
    "        # Use what we know about weighting to pick events\n",
    "        # from a power law. Here, I'm going to use a power\n",
    "        # law with an index of -2 and E0 of 100 TeV\n",
    "        weights = sim['ow'] *\\\n",
    "                  (N * (sim['trueE']/100.e3)**gamma) *\\\n",
    "                   window * 24*3600\n",
    "\n",
    "        signal_p = true_signal_pdf(sim, source_ra, source_dec)\n",
    "        signal_p /= np.sum(signal_p)\n",
    "\n",
    "        n_signal_observed = scipy.stats.poisson.rvs(np.sum(weights))\n",
    "        signal = np.random.choice(sim, n_signal_observed,\n",
    "                                  p = signal_p)\n",
    "\n",
    "        #print(\"added {} signal events\".format(signal.shape[0]))\n",
    "\n",
    "        # Because we want to return the entire event and not just the\n",
    "        # number of events, we need to do some numpy magic. Specifically,\n",
    "        # we need to remove the fields in the simulated events that are\n",
    "        # not present in the data events. These include the true direction,\n",
    "        # energy, and 'oneweight'.\n",
    "        signal = rf.drop_fields(signal, [n for n in signal.dtype.names \\\n",
    "                                         if not n in background.dtype.names])\n",
    "    else:\n",
    "        signal = np.empty(0, dtype=background.dtype)\n",
    "    return np.concatenate([background, signal])"
   ]
  },
  {
   "cell_type": "code",
   "execution_count": null,
   "metadata": {},
   "outputs": [],
   "source": []
  },
  {
   "cell_type": "code",
   "execution_count": 19,
   "metadata": {},
   "outputs": [
    {
     "name": "stdout",
     "output_type": "stream",
     "text": [
      "Got 12 events for this trial\n",
      "[(    121751, 17568598, 0, 2.30680808, -0.61891759, 3.23841328, 0.95089633, 56315.29186733, 5.22005328, 0.00671682)\n",
      " (    120796, 47200058, 0, 4.92617801, -0.24786577, 4.59252033, 1.32327035, 56211.20936199, 3.59446253, 0.00153484)\n",
      " (    120667, 34861498, 0, 3.99078764,  0.19244637, 2.00954121, 1.76239926, 56183.72456093, 3.04826327, 0.01302006)\n",
      " (    120849, 40407048, 0, 2.52312287,  0.32456057, 0.55874837, 1.8943615 , 56223.15219616, 2.80203533, 0.00919334)\n",
      " (    121715, 65504829, 0, 5.53648497, -0.18466367, 1.1664483 , 1.38707229, 56312.48391779, 4.55083719, 0.01699111)\n",
      " (    120420, 61021683, 0, 0.74340587, -0.30195675, 2.46160594, 1.26968149, 56115.46654026, 4.55688186, 0.00652001)\n",
      " (1106905683,     3945, 0, 1.5636766 ,  0.52618011, 1.87401155, 2.0969013 , 55927.01967593, 3.74798728, 0.01146796)\n",
      " (1102903388,    96569, 0, 1.55908059,  0.52118403, 1.87861529, 2.09191055, 55927.01967593, 2.78140511, 0.00971278)\n",
      " (1106905683,     3945, 0, 1.5636766 ,  0.52618011, 1.87401155, 2.0969013 , 55927.01967593, 3.74798728, 0.01146796)\n",
      " (1106905683,     3945, 0, 1.5636766 ,  0.52618011, 1.87401155, 2.0969013 , 55927.01967593, 3.74798728, 0.01146796)\n",
      " (1102903388,    96569, 0, 1.55908059,  0.52118403, 1.87861529, 2.09191055, 55927.01967593, 2.78140511, 0.00971278)\n",
      " (1102907183,    66854, 0, 1.59026066,  0.53041911, 1.84742178, 2.10110904, 55927.01967593, 2.73874431, 0.0063782 )]\n",
      "('run', 'event', 'subevent', 'ra', 'dec', 'azi', 'zen', 'time', 'logE', 'angErr')\n"
     ]
    }
   ],
   "source": [
    "# Produce a single trial. Here, we pass a \"seed\"\n",
    "# value to the function so that we can reproduce\n",
    "# the trial later if we want to. If you want it to\n",
    "# be random, set seed=None.\n",
    "seed = 0\n",
    "trial = produce_trial(N=2e-15, random_seed=seed)\n",
    "print(\"Got {} events for this trial\".format(len(trial)))\n",
    "print(trial)\n",
    "print(trial.dtype.names)"
   ]
  },
  {
   "cell_type": "code",
   "execution_count": null,
   "metadata": {},
   "outputs": [],
   "source": []
  },
  {
   "cell_type": "code",
   "execution_count": 20,
   "metadata": {},
   "outputs": [],
   "source": [
    "# Our signal PDF at this stage consists of just\n",
    "# a spatial part. In the case of the current dataset,\n",
    "# a Gaussian spatial PDF will work. In the case where\n",
    "# your angular unceratinties (\"angErr\") get larger\n",
    "# than a couple of degrees, you should probably use\n",
    "# a von-Mises distribution instead.\n",
    "def signal_pdf(event,\n",
    "               test_ra, \n",
    "               test_dec):    \n",
    "    sigma = event['angErr']\n",
    "    x = angular_distance(event['ra'], event['dec'], \n",
    "                         test_ra, test_dec)\n",
    "    \n",
    "    return (1.0/(2*np.pi*sigma**2))*np.exp(-x**2/(2*sigma**2))"
   ]
  },
  {
   "cell_type": "code",
   "execution_count": 21,
   "metadata": {},
   "outputs": [
    {
     "data": {
      "image/png": "[encoded data removed]",
      "text/plain": [
       "<Figure size 720x504 with 1 Axes>"
      ]
     },
     "metadata": {
      "needs_background": "light"
     },
     "output_type": "display_data"
    }
   ],
   "source": [
    "# Our background PDF only depends on declination.\n",
    "# In order for us to capture the dec-dependent\n",
    "# behavior, we first take a look at the dec values\n",
    "# in the data. We can do this by histogramming them.\n",
    "fig, ax = plt.subplots(figsize=(10, 7))\n",
    "\n",
    "sin_dec = np.sin(data['dec'])\n",
    "bins = np.linspace(-1.0, 1.0, 501)\n",
    "\n",
    "# Make the background histogram. Note that we do NOT\n",
    "# want to use density=True here, since that would mean\n",
    "# that our spline depends on the original bin widths!\n",
    "hist, bins, _ = ax.hist(sin_dec, \n",
    "                        bins=bins, \n",
    "                        histtype='step', \n",
    "                        linewidth=3,\n",
    "                        weights=np.ones_like(data['dec'])/len(data['dec']),\n",
    "                        label='Binned values from Data')\n",
    "\n",
    "# These values have a lot of \"noise\": they jump\n",
    "# up and down quite a lot. We could use fewer\n",
    "# bins, but that may hide some features that\n",
    "# we care about. We want something that captures\n",
    "# the right behavior, but is smooth and continuous.\n",
    "# The best way to do that is to use a \"spline\",\n",
    "# which will fit a continuous and differentiable\n",
    "# piecewise polynomial function to our data. \n",
    "# We can set a smoothing factor (s) to control\n",
    "# how smooth our spline is.\n",
    "bg_p_dec = interpolate.UnivariateSpline(bins[:-1]+np.diff(bins)/2., \n",
    "                                        hist,\n",
    "                                        bbox=[-1.0, 1.0],\n",
    "                                        s=1.5e-5,\n",
    "                                        ext=1)\n",
    "\n",
    "# Plot this too, so we can see how it compares\n",
    "# to the histogram.\n",
    "bg_p_dec_hist, bins, _ = ax.hist(bins, \n",
    "                                 bins=bins,\n",
    "                                 weights=bg_p_dec(bins), \n",
    "                                 histtype='step',\n",
    "                                 linewidth=2,\n",
    "                                 label = 'Spline to binned data')\n",
    "\n",
    "ax.legend(loc='upper left', fontsize=16)\n",
    "ax.grid(alpha=0.2)\n",
    "ax.set_xlim(-1, 1)\n",
    "ax.set_xlabel(r'Sin($\\delta$)', fontsize=16,)\n",
    "ax.set_ylabel(\"Fraction in bin\", fontsize=16)\n",
    "ax.tick_params(labelsize=14)"
   ]
  },
  {
   "cell_type": "code",
   "execution_count": 22,
   "metadata": {},
   "outputs": [],
   "source": [
    "# To get the declination-dependent background PDF,\n",
    "# we can now just call the background spline. Note\n",
    "# that we splined in sin(dec), so we need to pass\n",
    "# that to the spline. \n",
    "def background_pdf(event,\n",
    "                   test_ra, \n",
    "                   test_dec):\n",
    "    background_likelihood = (1/(2*np.pi))*bg_p_dec(np.sin(event['dec']))\n",
    "    return background_likelihood"
   ]
  },
  {
   "cell_type": "code",
   "execution_count": 54,
   "metadata": {},
   "outputs": [],
   "source": [
    "# Our events will consist of some unknown combination\n",
    "# of signal events (described by the PDF \"signal_pdf\", S)\n",
    "# and background events (described by \"background_pdf\", B).\n",
    "# We'll call the number of signal events ns.\n",
    "# Then the total likelihood will therefore be \n",
    "#\n",
    "# L_i = (ns/N)*S + (nb/N)*B\n",
    "#     = (ns/N)*S + ((N-ns)/N)*B\n",
    "#\n",
    "# which we will sum over all events i in our trial.\n",
    "# We'll evaluate these at a \"test point\" in RA, dec.\n",
    "def spatial_llh(event,\n",
    "                test_ra,\n",
    "                test_dec,\n",
    "                ns = 0,\n",
    "                verbose = False,):\n",
    "    N = len(event)\n",
    "    if N==0: \n",
    "        return 0\n",
    "    \n",
    "    # Check: ns cannot be larger than N.\n",
    "    #if ns > N: \n",
    "    #    ns = N\n",
    "\n",
    "    S = signal_pdf(event, test_ra, test_dec)\n",
    "    B = background_pdf(event, test_ra, test_dec)\n",
    "    ratio = (ns/N*(S/B-1))+1\n",
    "    #ratio[ratio==0]=1\n",
    "    \n",
    "    if verbose:\n",
    "        print('S')\n",
    "        print(S)\n",
    "        print('B')\n",
    "        print(B)\n",
    "        print('L')\n",
    "        print(ratio)\n",
    "    \n",
    "    # This is the *likelihood*..\n",
    "    # We want the negative log-likelihood\n",
    "    return np.sum(2*np.log(ratio))"
   ]
  },
  {
   "cell_type": "code",
   "execution_count": null,
   "metadata": {},
   "outputs": [],
   "source": []
  },
  {
   "cell_type": "code",
   "execution_count": 55,
   "metadata": {
    "scrolled": true
   },
   "outputs": [
    {
     "name": "stderr",
     "output_type": "stream",
     "text": [
      "/Users/mjlarson/.pyenv/versions/3.7.3/lib/python3.7/site-packages/ipykernel_launcher.py:40: RuntimeWarning: divide by zero encountered in log\n"
     ]
    }
   ],
   "source": [
    "# Write a function that can produce our\n",
    "# trials for us. This'll help when we need\n",
    "# to calculate our sensitivities, since we'll\n",
    "# need to call this a lot.\n",
    "def produce_n_trials(ntrials,\n",
    "                        \n",
    "                     # Parameters to control the true signal, background\n",
    "                     n_background = n_expected, \n",
    "                     N=0, \n",
    "                     gamma=-2, \n",
    "                     source_ra = np.pi/2, \n",
    "                     source_dec = np.pi/6, \n",
    "                     \n",
    "                     # Parameters to control where/when you look\n",
    "                     test_ns = 0,\n",
    "                     test_ra = np.pi/2,\n",
    "                     test_dec = np.pi/6,\n",
    "                     window = time_window, \n",
    "                     \n",
    "                     # The data to use\n",
    "                     data=data, \n",
    "                     sim=sim, \n",
    "                     random_seed = None,\n",
    "                     verbose=True):\n",
    "    \n",
    "    llhs = []\n",
    "    for i in range(ntrials):\n",
    "        # Get the events for this trial.\n",
    "        trial = produce_trial(n_background=n_expected, \n",
    "                               N=N, \n",
    "                               gamma=gamma, \n",
    "                               source_ra=source_ra, \n",
    "                               source_dec=source_dec, \n",
    "                               window=time_window, \n",
    "                               data=data, \n",
    "                               sim=sim, \n",
    "                               random_seed = random_seed)\n",
    "\n",
    "        # And the likelihood for the trial\n",
    "        llh = spatial_llh(trial, \n",
    "                          test_ra, \n",
    "                          test_dec,\n",
    "                          ns = test_ns,\n",
    "                          )\n",
    "        llhs.append(llh)\n",
    "    return llhs\n",
    "    \n",
    "# Run trials for a few different values of N.\n",
    "# Here, I'll assume ns=1 for all cases.\n",
    "background_ts = produce_n_trials(1000, test_ns=1)\n",
    "signal_ts_16_ns0 = produce_n_trials(500, N=1e-16, test_ns=1)\n",
    "signal_ts_15_ns0 = produce_n_trials(500, N=1e-15, test_ns=1)\n",
    "signal_ts_14_ns0 = produce_n_trials(500, N=1e-14, test_ns=1)"
   ]
  },
  {
   "cell_type": "code",
   "execution_count": 56,
   "metadata": {},
   "outputs": [
    {
     "data": {
      "image/png": "[encoded data removed]",
      "text/plain": [
       "<Figure size 720x432 with 1 Axes>"
      ]
     },
     "metadata": {
      "needs_background": "light"
     },
     "output_type": "display_data"
    }
   ],
   "source": [
    "# Plot the signal and background LLHs\n",
    "fig, ax = plt.subplots(figsize=(10,6))\n",
    "bins = np.linspace(-5, 200, 50)\n",
    "\n",
    "ax.hist(background_ts,\n",
    "        bins = bins,\n",
    "        weights = np.ones_like(background_ts)/len(background_ts),\n",
    "        histtype = 'step',\n",
    "        color = 'k',\n",
    "        linewidth = 3,\n",
    "        alpha=0.5,\n",
    "        label = r'N = 0')\n",
    "\n",
    "ax.hist(signal_ts_16_ns0,\n",
    "        bins = bins,\n",
    "        weights = np.ones_like(signal_ts_16_ns0)/len(signal_ts_16_ns0),\n",
    "        histtype = 'step',\n",
    "        linewidth = 3,\n",
    "        alpha = 0.7,\n",
    "        label = r'N = $10^{-16}$')\n",
    "\n",
    "ax.hist(signal_ts_15_ns0,\n",
    "        bins = bins,\n",
    "        weights = np.ones_like(signal_ts_15_ns0)/len(signal_ts_15_ns0),\n",
    "        histtype = 'step',\n",
    "        linewidth = 3,\n",
    "        alpha = 0.7,\n",
    "        label = r'N = $10^{-15}$')\n",
    "\n",
    "ax.hist(signal_ts_14_ns0,\n",
    "        bins = bins,\n",
    "        weights = np.ones_like(signal_ts_14_ns0)/len(signal_ts_14_ns0),\n",
    "        histtype = 'step',\n",
    "        linewidth = 3,\n",
    "        alpha = 0.7,\n",
    "        label = r'N = $10^{-14}$')\n",
    "\n",
    "ax.legend(loc='upper right', fontsize=16,)\n",
    "\n",
    "ax.grid(alpha=0.25)\n",
    "#ax.set_xlim(bins.min(), bins.max())\n",
    "ax.set_xlabel(\"TS\", fontsize=16)\n",
    "ax.set_ylabel(\"Fraction of Trials\", fontsize=16)\n",
    "ax.tick_params(which='both', labelsize=16)"
   ]
  },
  {
   "cell_type": "code",
   "execution_count": null,
   "metadata": {},
   "outputs": [],
   "source": []
  },
  {
   "cell_type": "code",
   "execution_count": null,
   "metadata": {},
   "outputs": [],
   "source": []
  },
  {
   "cell_type": "code",
   "execution_count": 57,
   "metadata": {},
   "outputs": [
    {
     "name": "stderr",
     "output_type": "stream",
     "text": [
      "/Users/mjlarson/.pyenv/versions/3.7.3/lib/python3.7/site-packages/ipykernel_launcher.py:40: RuntimeWarning: divide by zero encountered in log\n"
     ]
    },
    {
     "data": {
      "image/png": "[encoded data removed]",
      "text/plain": [
       "<Figure size 720x432 with 1 Axes>"
      ]
     },
     "metadata": {
      "needs_background": "light"
     },
     "output_type": "display_data"
    }
   ],
   "source": [
    "# Plot the signal and background LLHs\n",
    "fig, ax = plt.subplots(figsize=(10,6))\n",
    "bins = np.linspace(0, 500, 100)\n",
    "\n",
    "ax.hist(background_ts,\n",
    "        bins = bins,\n",
    "        weights = np.ones_like(background_ts)/len(background_ts),\n",
    "        histtype = 'step',\n",
    "        color = 'k',\n",
    "        linewidth = 3,\n",
    "        label = r'N = 0')\n",
    "\n",
    "for ns in [1, 10, 20]:\n",
    "    signal_ts = produce_n_trials(1000, N=1e-14, test_ns=ns)\n",
    "    ax.hist(signal_ts,\n",
    "        bins = bins,\n",
    "        weights = np.ones_like(signal_ts)/len(signal_ts),\n",
    "        histtype = 'step',\n",
    "        linewidth = 3,\n",
    "        alpha = 0.7,\n",
    "        label = r'N = $10^{-14}$, $n_s$' + '={}'.format(ns))\n",
    "\n",
    "ax.legend(loc='upper right', ncol=2, fontsize=14,)\n",
    "\n",
    "ax.grid(alpha=0.25)\n",
    "#ax.set_xlim(bins.min(), bins.max())\n",
    "ax.set_xlabel(\"-LLH\", fontsize=16)\n",
    "ax.set_ylabel(\"Number of Trials\", fontsize=16)\n",
    "ax.tick_params(which='both', labelsize=16)"
   ]
  },
  {
   "cell_type": "code",
   "execution_count": null,
   "metadata": {},
   "outputs": [],
   "source": []
  },
  {
   "cell_type": "code",
   "execution_count": null,
   "metadata": {},
   "outputs": [],
   "source": []
  },
  {
   "cell_type": "code",
   "execution_count": null,
   "metadata": {},
   "outputs": [],
   "source": []
  },
  {
   "cell_type": "code",
   "execution_count": 58,
   "metadata": {
    "scrolled": false
   },
   "outputs": [
    {
     "name": "stdout",
     "output_type": "stream",
     "text": [
      "9 0\n"
     ]
    },
    {
     "name": "stderr",
     "output_type": "stream",
     "text": [
      "/Users/mjlarson/.pyenv/versions/3.7.3/lib/python3.7/site-packages/ipykernel_launcher.py:40: RuntimeWarning: divide by zero encountered in log\n"
     ]
    },
    {
     "data": {
      "image/png": "[encoded data removed]",
      "text/plain": [
       "<Figure size 720x432 with 1 Axes>"
      ]
     },
     "metadata": {
      "needs_background": "light"
     },
     "output_type": "display_data"
    }
   ],
   "source": [
    "# Produce a single trial that we can use to answer the\n",
    "# question \"What does the TS look like as a function of ns?\"\n",
    "trial = produce_trial(N=0)\n",
    "\n",
    "# How many signal events are there really in this trial?\n",
    "# Use a trick of this dataset to ID signal events.\n",
    "# This works since the simulated events have the\n",
    "# runs set to very large numbers while the data\n",
    "# (our background events) have values below 200,000.\n",
    "ns_true = (trial['run']>200000).sum()\n",
    "print(len(trial['run']), ns_true)\n",
    "\n",
    "ns_values = np.linspace(0, len(trial), 1000)\n",
    "ts_values = []\n",
    "for ns in ns_values:\n",
    "    # Calculate the spatial LLH for this ns and trial\n",
    "    # How do we call the spatial likelihood for this\n",
    "    # trial and ns with a source at RA=pi/2, dec=pi/6?\n",
    "    llh = spatial_llh(trial,\n",
    "                      np.pi/2,\n",
    "                      np.pi/6,\n",
    "                      ns = ns,)\n",
    "    ts_values.append(llh)\n",
    "\n",
    "# numpy arrays are easier to do calculations with than lists\n",
    "ts_values = np.array(ts_values)\n",
    "    \n",
    "# Plot -1*LLH vs ns for this trial\n",
    "# Note that we're going to plot -1*LLH here.\n",
    "fig, ax = plt.subplots(figsize=(10,6))\n",
    "\n",
    "# Add your plotting line here\n",
    "ax.plot(ns_values, \n",
    "        -1*ts_values,\n",
    "        linewidth=3,)\n",
    "\n",
    "ax.axvline(ns_true,\n",
    "            color='k',\n",
    "           linewidth=3,\n",
    "            label = 'True number of signal events')\n",
    "\n",
    "ax.grid(alpha=0.3)\n",
    "ax.set_xlim(ns_values.min(), ns_values.max())\n",
    "ax.legend(fontsize=16,)\n",
    "ax.set_xlabel(\"ns\", fontsize=16)\n",
    "ax.set_ylabel(\"-1 * TS\", fontsize=16)\n",
    "ax.tick_params(which='both', labelsize=16)"
   ]
  },
  {
   "cell_type": "code",
   "execution_count": null,
   "metadata": {},
   "outputs": [],
   "source": []
  },
  {
   "cell_type": "code",
   "execution_count": 59,
   "metadata": {},
   "outputs": [
    {
     "name": "stderr",
     "output_type": "stream",
     "text": [
      "/Users/mjlarson/.pyenv/versions/3.7.3/lib/python3.7/site-packages/ipykernel_launcher.py:40: RuntimeWarning: invalid value encountered in log\n",
      "/Users/mjlarson/.pyenv/versions/3.7.3/lib/python3.7/site-packages/ipykernel_launcher.py:40: RuntimeWarning: divide by zero encountered in log\n",
      "No handles with labels found to put in legend.\n"
     ]
    },
    {
     "data": {
      "image/png": "[encoded data removed]",
      "text/plain": [
       "<Figure size 720x432 with 1 Axes>"
      ]
     },
     "metadata": {
      "needs_background": "light"
     },
     "output_type": "display_data"
    }
   ],
   "source": [
    "# Plot -1*LLH vs ns for this trial\n",
    "# Note that we're going to plot -1*LLH here.\n",
    "fig, ax = plt.subplots(figsize=(10,6))\n",
    "\n",
    "for i in range(10):\n",
    "    # Produce a single trial that we can use to answer the\n",
    "    # question \"What does the TS look like as a function of ns?\"\n",
    "    trial = produce_trial(N=1e-15)\n",
    "\n",
    "    ns_values = np.linspace(0, 10, 1000)\n",
    "    ts_values = []\n",
    "    for ns in ns_values:\n",
    "        # Calculate the spatial LLH for this ns and trial\n",
    "        # How do we call the spatial likelihood for this\n",
    "        # trial and ns with a source at RA=pi/2, dec=pi/6?\n",
    "        llh = spatial_llh(trial,\n",
    "                          np.pi/2,\n",
    "                          np.pi/6,\n",
    "                          ns = ns,)\n",
    "        ts_values.append(llh)\n",
    "\n",
    "    # numpy arrays are easier to do calculations with than lists\n",
    "    ts_values = np.array(ts_values)\n",
    "\n",
    "    # Add your plotting line here\n",
    "    ax.plot(ns_values, \n",
    "            -1*ts_values,\n",
    "            linewidth=3,)\n",
    "\n",
    "ax.grid(alpha=0.3)\n",
    "ax.set_xlim(ns_values.min(), ns_values.max())\n",
    "ax.legend(fontsize=16,)\n",
    "ax.set_xlabel(\"ns\", fontsize=16)\n",
    "ax.set_ylabel(\"-1 * TS\", fontsize=16)\n",
    "ax.tick_params(which='both', labelsize=16)"
   ]
  },
  {
   "cell_type": "code",
   "execution_count": null,
   "metadata": {},
   "outputs": [],
   "source": []
  },
  {
   "cell_type": "code",
   "execution_count": null,
   "metadata": {},
   "outputs": [],
   "source": []
  },
  {
   "cell_type": "code",
   "execution_count": null,
   "metadata": {},
   "outputs": [],
   "source": []
  },
  {
   "cell_type": "code",
   "execution_count": null,
   "metadata": {},
   "outputs": [],
   "source": []
  },
  {
   "cell_type": "code",
   "execution_count": 60,
   "metadata": {},
   "outputs": [
    {
     "name": "stdout",
     "output_type": "stream",
     "text": [
      "3\n"
     ]
    },
    {
     "name": "stderr",
     "output_type": "stream",
     "text": [
      "/Users/mjlarson/.pyenv/versions/3.7.3/lib/python3.7/site-packages/ipykernel_launcher.py:40: RuntimeWarning: divide by zero encountered in log\n"
     ]
    },
    {
     "data": {
      "text/plain": [
       "Text(0, 0.5, 'TS')"
      ]
     },
     "execution_count": 60,
     "metadata": {},
     "output_type": "execute_result"
    },
    {
     "data": {
      "image/png": "[encoded data removed]",
      "text/plain": [
       "<Figure size 432x288 with 1 Axes>"
      ]
     },
     "metadata": {
      "needs_background": "light"
     },
     "output_type": "display_data"
    }
   ],
   "source": [
    "seed = 5\n",
    "trial = produce_trial(N=1e-15, random_seed=seed)\n",
    "\n",
    "# How many signal events are there really?\n",
    "# Use a trick of this dataset to ID signal events.\n",
    "# This works since the simulated events have the\n",
    "# runs set to very large numbers while the data\n",
    "# (our background events) have values below 200,000.\n",
    "ns_true = (trial['run']>200000).sum()\n",
    "\n",
    "print(ns_true)\n",
    "\n",
    "ns_values = np.linspace(0, len(trial), 1000)\n",
    "ts_values = []\n",
    "for ns in ns_values:\n",
    "    # Calculate the spatial LLH for this ns and trial\n",
    "    llh = spatial_llh(trial, \n",
    "                      np.pi/2., \n",
    "                      np.pi/6.,\n",
    "                      ns = ns,\n",
    "                      )\n",
    "    ts_values.append(-1*llh)\n",
    "\n",
    "\n",
    "# Plot the result for this trial\n",
    "\n",
    "plt.plot(ns_values, ts_values,\n",
    "         linewidth=3,\n",
    "         label='Calculated values')\n",
    "plt.axvline(ns_true,\n",
    "            color='k',\n",
    "            label = 'True number of signal events')\n",
    "plt.xlim(ns_values.min(), ns_values.max())\n",
    "plt.grid()\n",
    "plt.legend()\n",
    "plt.xlabel(\"ns\")\n",
    "plt.ylabel('TS')"
   ]
  },
  {
   "cell_type": "code",
   "execution_count": 61,
   "metadata": {},
   "outputs": [
    {
     "name": "stdout",
     "output_type": "stream",
     "text": [
      "S\n",
      "[  0.           0.           0.           0.         947.16597041\n",
      "  68.14564315  68.14564315]\n",
      "B\n",
      "[0.00031381 0.00030162 0.00020559 0.00052312 0.00039376 0.00039096\n",
      " 0.00039096]\n",
      "L\n",
      "[      0.               0.               0.               0.\n",
      " 2405446.66214114  174303.6455475   174303.6455475 ]\n"
     ]
    },
    {
     "name": "stderr",
     "output_type": "stream",
     "text": [
      "/Users/mjlarson/.pyenv/versions/3.7.3/lib/python3.7/site-packages/ipykernel_launcher.py:40: RuntimeWarning: divide by zero encountered in log\n"
     ]
    }
   ],
   "source": [
    "llh = spatial_llh(trial, \n",
    "                  np.pi/2., \n",
    "                  np.pi/6.,\n",
    "                  ns = ns,\n",
    "                  verbose = True,\n",
    "                  )"
   ]
  },
  {
   "cell_type": "code",
   "execution_count": 62,
   "metadata": {},
   "outputs": [
    {
     "name": "stdout",
     "output_type": "stream",
     "text": [
      "0.0\n",
      "[ 0.          0.          0.          0.         14.69324617 12.06855415\n",
      " 12.06855415]\n",
      "[      0.               0.               0.               0.\n",
      " 2405439.78669748  174303.36389912  174303.36389912]\n",
      "-inf\n",
      "[ 0.          0.          0.          0.         14.69324617 12.06855415\n",
      " 12.06855415]\n",
      "38.83035446418539\n"
     ]
    },
    {
     "name": "stderr",
     "output_type": "stream",
     "text": [
      "/Users/mjlarson/.pyenv/versions/3.7.3/lib/python3.7/site-packages/ipykernel_launcher.py:21: RuntimeWarning: divide by zero encountered in log\n"
     ]
    }
   ],
   "source": [
    "S = [  0.,           0.,           0.,           0.,         947.16597041,\n",
    "  68.14564315,  68.14564315]\n",
    "B = [0.00031381, 0.00030162, 0.00020559, 0.00052312, 0.00039376, 0.00039096,\n",
    " 0.00039096]\n",
    "L = [1.00000000e+00, 1.00000000e+00, 1.00000000e+00, 1.00000000e+00,\n",
    " 2.40544666e+06, 1.74303646e+05, 1.74303646e+05]\n",
    "\n",
    "S = np.array(S)\n",
    "B = np.array(B)\n",
    "L = np.array(L)\n",
    "\n",
    "print(np.exp(np.finfo(S.dtype).min))\n",
    "#S[S==0] = \n",
    "\n",
    "print(np.log(L))\n",
    "\n",
    "N = len(L)\n",
    "ns = N#-0.0001\n",
    "\n",
    "print(ns/N*(S/B-1)+1)\n",
    "print(np.sum(np.log( ns/N*(S/B-1)+1 )))\n",
    "print(np.log( L ))\n",
    "print(np.log( L ).sum())\n"
   ]
  },
  {
   "cell_type": "code",
   "execution_count": null,
   "metadata": {},
   "outputs": [],
   "source": []
  },
  {
   "cell_type": "code",
   "execution_count": null,
   "metadata": {},
   "outputs": [],
   "source": []
  },
  {
   "cell_type": "code",
   "execution_count": null,
   "metadata": {},
   "outputs": [],
   "source": []
  },
  {
   "cell_type": "code",
   "execution_count": null,
   "metadata": {},
   "outputs": [],
   "source": []
  },
  {
   "cell_type": "code",
   "execution_count": null,
   "metadata": {},
   "outputs": [],
   "source": []
  },
  {
   "cell_type": "code",
   "execution_count": null,
   "metadata": {},
   "outputs": [],
   "source": []
  },
  {
   "cell_type": "code",
   "execution_count": null,
   "metadata": {},
   "outputs": [],
   "source": []
  },
  {
   "cell_type": "code",
   "execution_count": null,
   "metadata": {},
   "outputs": [],
   "source": []
  },
  {
   "cell_type": "code",
   "execution_count": null,
   "metadata": {},
   "outputs": [],
   "source": []
  }
 ],
 "metadata": {
  "kernelspec": {
   "display_name": "Python 3",
   "language": "python",
   "name": "python3"
  },
  "language_info": {
   "codemirror_mode": {
    "name": "ipython",
    "version": 3
   },
   "file_extension": ".py",
   "mimetype": "text/x-python",
   "name": "python",
   "nbconvert_exporter": "python",
   "pygments_lexer": "ipython3",
   "version": "3.7.3"
  }
 },
 "nbformat": 4,
 "nbformat_minor": 4
}
