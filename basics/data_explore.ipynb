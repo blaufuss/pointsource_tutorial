{
 "cells": [
  {
   "cell_type": "code",
   "execution_count": null,
   "metadata": {
    "colab": {
     "base_uri": "https://localhost:8080/",
     "height": 51
    },
    "id": "2CWk--BJ6MuI",
    "outputId": "1e856326-3169-4b88-98a7-7473b6a426f6"
   },
   "outputs": [],
   "source": [
    "import numpy as np\n",
    "import os\n"
   ]
  },
  {
   "cell_type": "code",
   "execution_count": null,
   "metadata": {
    "colab": {
     "base_uri": "https://localhost:8080/",
     "height": 51
    },
    "id": "ck9Mscs_Mbzv",
    "outputId": "25c2545e-2111-4e02-d81f-edce7b6cdce5"
   },
   "outputs": [],
   "source": [
    "# Use Numpy to load row-wise data\n",
    "f=np.loadtxt('../../data/events/IC86_II_exp.csv', skiprows=1, usecols=(0,1,2,3,4,))\n",
    "print(len(f.T[0]))\n",
    "np.shape(f)"
   ]
  },
  {
   "cell_type": "code",
   "execution_count": null,
   "metadata": {
    "id": "zIP1gE0bgkB9"
   },
   "outputs": [],
   "source": [
    "# Assign what we know about each row to make collections of values, RA/DEC are in degrees, make then radians\n",
    "MJD=f.T[0]\n",
    "E=f.T[1]\n",
    "AngErr=f.T[2]\n",
    "RA=f.T[3]\n",
    "RA=np.radians(RA)\n",
    "Dec=f.T[4]\n",
    "Dec=np.radians(Dec)"
   ]
  },
  {
   "cell_type": "code",
   "execution_count": null,
   "metadata": {
    "id": "laQQkJUzkbQy"
   },
   "outputs": [],
   "source": [
    "import matplotlib.mlab as mlab\n",
    "import matplotlib.pyplot as plt"
   ]
  },
  {
   "cell_type": "code",
   "execution_count": null,
   "metadata": {
    "colab": {
     "base_uri": "https://localhost:8080/",
     "height": 279
    },
    "id": "l-HJ0GjolOSs",
    "outputId": "ef4ca591-8718-45b4-f6da-e6b4c4c02bd7"
   },
   "outputs": [],
   "source": [
    "x=[np.sin(Dec)]\n",
    "num_bins=20\n",
    "plt.hist(x, num_bins, facecolor='purple', alpha=0.5)\n",
    "plt.xlabel('Sin(Dec)')\n",
    "plt.show()"
   ]
  },
  {
   "cell_type": "code",
   "execution_count": null,
   "metadata": {
    "colab": {
     "base_uri": "https://localhost:8080/",
     "height": 279
    },
    "id": "tJkHpwkGskVv",
    "outputId": "485460ec-8bed-426a-fccb-0ef370affced"
   },
   "outputs": [],
   "source": [
    "n, bins, patches = plt.hist(MJD, 50, facecolor='red', alpha=0.5)\n",
    "plt.xlabel('MJD')\n",
    "plt.show()"
   ]
  },
  {
   "cell_type": "code",
   "execution_count": null,
   "metadata": {
    "colab": {
     "base_uri": "https://localhost:8080/",
     "height": 279
    },
    "id": "-4Pa2WcqtFRz",
    "outputId": "6d04b895-03b5-4989-9a32-03aac33e2f6e"
   },
   "outputs": [],
   "source": [
    "plt.hist(RA, 50, facecolor='red', alpha=0.5)\n",
    "plt.xlabel('RA')\n",
    "plt.show()"
   ]
  },
  {
   "cell_type": "code",
   "execution_count": null,
   "metadata": {
    "colab": {
     "base_uri": "https://localhost:8080/",
     "height": 279
    },
    "id": "avVIfJuavfUt",
    "outputId": "ce8762ee-b2da-4234-cb89-b38f4519ce01"
   },
   "outputs": [],
   "source": [
    "plt.hist(AngErr,100)\n",
    "plt.xlabel('Angular error')\n",
    "plt.semilogy()\n",
    "plt.show()"
   ]
  },
  {
   "cell_type": "code",
   "execution_count": null,
   "metadata": {
    "colab": {
     "base_uri": "https://localhost:8080/",
     "height": 279
    },
    "id": "EEiVxrsdmnSZ",
    "outputId": "02276f0e-ece1-4af6-8f3b-0fce93187fbd"
   },
   "outputs": [],
   "source": [
    "x=E\n",
    "y=[np.sin(Dec)]\n",
    "plt.scatter(x, y, alpha=0.5, color='m')\n",
    "#plt.title('Energy by Declination')\n",
    "plt.xlabel('Log10GeV')\n",
    "plt.ylabel('Sine Declination')\n",
    "plt.show()"
   ]
  },
  {
   "cell_type": "code",
   "execution_count": null,
   "metadata": {
    "id": "XzdcOkMaUc_x"
   },
   "outputs": [],
   "source": [
    "%matplotlib inline\n",
    "from __future__ import division\n",
    "import numpy as np\n",
    "import matplotlib.pyplot as plt\n",
    "from IPython.core.display import HTML"
   ]
  },
  {
   "cell_type": "code",
   "execution_count": null,
   "metadata": {
    "id": "K8buOo29xHgY"
   },
   "outputs": [],
   "source": [
    "emin=4"
   ]
  },
  {
   "cell_type": "code",
   "execution_count": null,
   "metadata": {
    "id": "JbkBt3Ya77V2"
   },
   "outputs": [],
   "source": [
    "def plot_mwd(RA,Dec,E,org=0,title='Mollweide Projection',projection='mollweide'):\n",
    "  RA=np.degrees(RA[E>emin])  \n",
    "  Dec=np.degrees(Dec[E>emin])\n",
    "  x=np.remainder(RA+360-org,360)\n",
    "  ind=x>180\n",
    "  x[ind]-=360\n",
    "  x=-x\n",
    "  tick_labels=np.array([150,120,90,60,30,0,330,300,270,240,210])\n",
    "  tick_labels=np.remainder(tick_labels+360+org,360)\n",
    "  fig=plt.figure(figsize=(10,5))\n",
    "  ax=fig.add_subplot(111,projection=projection,facecolor='lightblue')\n",
    "  ax.scatter(np.radians(x),np.radians(Dec))\n",
    "  ax.set_xticklabels(tick_labels)\n",
    "  ax.set_title(title)\n",
    "  ax.title.set_fontsize(15)\n",
    "  ax.set_xlabel(\"RA\")\n",
    "  ax.xaxis.label.set_fontsize(12)\n",
    "  ax.set_ylabel(\"Dec\")\n",
    "  ax.yaxis.label.set_fontsize(12)\n",
    "  ax.grid(True)"
   ]
  },
  {
   "cell_type": "code",
   "execution_count": null,
   "metadata": {
    "colab": {
     "base_uri": "https://localhost:8080/",
     "height": 372
    },
    "id": "B62VZ1q-8dtn",
    "outputId": "63db8aea-7fae-47de-e568-0a0d262bd962"
   },
   "outputs": [],
   "source": [
    "plot_mwd(RA,Dec,E)"
   ]
  },
  {
   "cell_type": "code",
   "execution_count": null,
   "metadata": {
    "id": "C_TvSbVo8f0S"
   },
   "outputs": [],
   "source": [
    "emin=5"
   ]
  },
  {
   "cell_type": "code",
   "execution_count": null,
   "metadata": {
    "colab": {
     "base_uri": "https://localhost:8080/",
     "height": 372
    },
    "id": "-SDR9nOOLHpa",
    "outputId": "2ad8df6c-4f85-4d30-b02f-5b2460919018"
   },
   "outputs": [],
   "source": [
    "plot_mwd(RA,Dec,E)"
   ]
  },
  {
   "cell_type": "code",
   "execution_count": null,
   "metadata": {
    "id": "YomZraUvLJ36"
   },
   "outputs": [],
   "source": [
    "emin=6"
   ]
  },
  {
   "cell_type": "code",
   "execution_count": null,
   "metadata": {
    "colab": {
     "base_uri": "https://localhost:8080/",
     "height": 338
    },
    "id": "Rp4RPR1BLLVK",
    "outputId": "faac2919-4b5a-44dd-c5a4-5076bf1d73d8"
   },
   "outputs": [],
   "source": [
    "plot_mwd(RA,Dec,E)"
   ]
  },
  {
   "cell_type": "code",
   "execution_count": null,
   "metadata": {
    "id": "doeZI6ZzLMkT"
   },
   "outputs": [],
   "source": [
    "def plot_mwdc(RA,Dec,E,org=0,title='2012 Energy',projection='mollweide'):\n",
    "  RA=np.degrees(RA)\n",
    "  Dec=np.degrees(Dec)\n",
    "  x=np.remainder(RA+360-org,360)\n",
    "  ind=x>180\n",
    "  x[ind]-=360\n",
    "  x=-x\n",
    "  tick_labels=np.array([150,120,90,60,30,0,330,300,270,240,210])\n",
    "  tick_labels=np.remainder(tick_labels+360+org,360)\n",
    "  fig=plt.figure(figsize=(10,5))\n",
    "  ax=fig.add_subplot(111,projection=projection,facecolor='lightblue')\n",
    "  sc=ax.scatter(np.radians(x),np.radians(Dec), c=E, cmap='plasma')\n",
    "  plt.colorbar(sc)\n",
    "  ax.set_xticklabels(tick_labels)\n",
    "  ax.set_title(title)\n",
    "  ax.title.set_fontsize(15)\n",
    "  ax.set_xlabel(\"RA\")\n",
    "  ax.xaxis.label.set_fontsize(12)\n",
    "  ax.set_ylabel(\"Dec\")\n",
    "  ax.yaxis.label.set_fontsize(12)\n",
    "  ax.grid(True)"
   ]
  },
  {
   "cell_type": "code",
   "execution_count": null,
   "metadata": {
    "colab": {
     "base_uri": "https://localhost:8080/",
     "height": 337
    },
    "id": "-vxvzPIyR3D0",
    "outputId": "049adc41-da8b-42be-dbbb-3ddc51d49cb5"
   },
   "outputs": [],
   "source": [
    "plot_mwdc(RA,Dec,E)"
   ]
  },
  {
   "cell_type": "code",
   "execution_count": null,
   "metadata": {
    "id": "bUp2vsxWBsxc"
   },
   "outputs": [],
   "source": []
  }
 ],
 "metadata": {
  "colab": {
   "collapsed_sections": [],
   "name": "PSData - IceCube 2012",
   "provenance": []
  },
  "kernelspec": {
   "display_name": "Python 3",
   "language": "python",
   "name": "python3"
  },
  "language_info": {
   "codemirror_mode": {
    "name": "ipython",
    "version": 3
   },
   "file_extension": ".py",
   "mimetype": "text/x-python",
   "name": "python",
   "nbconvert_exporter": "python",
   "pygments_lexer": "ipython3",
   "version": "3.8.6"
  }
 },
 "nbformat": 4,
 "nbformat_minor": 4
}
